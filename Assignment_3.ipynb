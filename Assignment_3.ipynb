{
 "cells": [
  {
   "cell_type": "markdown",
   "metadata": {},
   "source": [
    "# Assignment 3"
   ]
  },
  {
   "cell_type": "markdown",
   "metadata": {},
   "source": [
    "Import libraries and define common helper functions"
   ]
  },
  {
   "cell_type": "code",
   "execution_count": 29,
   "metadata": {
    "scrolled": true
   },
   "outputs": [],
   "source": [
    "import os\n",
    "import sys\n",
    "import gzip\n",
    "import json\n",
    "from pathlib import Path\n",
    "import csv\n",
    "\n",
    "import pandas as pd\n",
    "import s3fs\n",
    "import pyarrow as pa\n",
    "from pyarrow.json import read_json\n",
    "import pyarrow.parquet as pq\n",
    "import fastavro\n",
    "import pygeohash\n",
    "import snappy\n",
    "import jsonschema\n",
    "from jsonschema.exceptions import ValidationError\n",
    "\n",
    "\n",
    "endpoint_url='https://storage.budsc.midwest-datascience.com'\n",
    "\n",
    "current_dir = Path(os.getcwd()).absolute()\n",
    "schema_dir = current_dir.joinpath('schemas')\n",
    "results_dir = current_dir.joinpath('results')\n",
    "results_dir.mkdir(parents=True, exist_ok=True)\n",
    "\n",
    "\n",
    "def read_jsonl_data():\n",
    "    s3 = s3fs.S3FileSystem(\n",
    "        anon=True,\n",
    "        client_kwargs={\n",
    "            'endpoint_url': endpoint_url\n",
    "        }\n",
    "    )\n",
    "    src_data_path = 'data/processed/openflights/routes.jsonl.gz'\n",
    "    with s3.open(src_data_path, 'rb') as f_gz:\n",
    "        with gzip.open(f_gz, 'rb') as f:\n",
    "            records = [json.loads(line) for line in f.readlines()]\n",
    "        \n",
    "\n",
    "    return records"
   ]
  },
  {
   "cell_type": "code",
   "execution_count": null,
   "metadata": {},
   "outputs": [],
   "source": [
    "Create a JSON Schema in the schemas/routes-schema.json file to describe a route and validate the data in routes.jsonl.gz\n",
    "using the jsonschema library.\n",
    "\n"
   ]
  },
  {
   "cell_type": "markdown",
   "metadata": {},
   "source": [
    "Load the records from https://storage.budsc.midwest-datascience.com/data/processed/openflights/routes.jsonl.gz "
   ]
  },
  {
   "cell_type": "code",
   "execution_count": 30,
   "metadata": {},
   "outputs": [],
   "source": [
    "records = read_jsonl_data()"
   ]
  },
  {
   "cell_type": "code",
   "execution_count": 38,
   "metadata": {},
   "outputs": [
    {
     "data": {
      "text/plain": [
       "[{'airline': {'airline_id': 410,\n",
       "   'name': 'Aerocondor',\n",
       "   'alias': 'ANA All Nippon Airways',\n",
       "   'iata': '2B',\n",
       "   'icao': 'ARD',\n",
       "   'callsign': 'AEROCONDOR',\n",
       "   'country': 'Portugal',\n",
       "   'active': True},\n",
       "  'src_airport': {'airport_id': 2965,\n",
       "   'name': 'Sochi International Airport',\n",
       "   'city': 'Sochi',\n",
       "   'country': 'Russia',\n",
       "   'iata': 'AER',\n",
       "   'icao': 'URSS',\n",
       "   'latitude': 43.449902,\n",
       "   'longitude': 39.9566,\n",
       "   'altitude': 89,\n",
       "   'timezone': 3.0,\n",
       "   'dst': 'N',\n",
       "   'tz_id': 'Europe/Moscow',\n",
       "   'type': 'airport',\n",
       "   'source': 'OurAirports'},\n",
       "  'dst_airport': {'airport_id': 2990,\n",
       "   'name': 'Kazan International Airport',\n",
       "   'city': 'Kazan',\n",
       "   'country': 'Russia',\n",
       "   'iata': 'KZN',\n",
       "   'icao': 'UWKD',\n",
       "   'latitude': 55.606201171875,\n",
       "   'longitude': 49.278701782227,\n",
       "   'altitude': 411,\n",
       "   'timezone': 3.0,\n",
       "   'dst': 'N',\n",
       "   'tz_id': 'Europe/Moscow',\n",
       "   'type': 'airport',\n",
       "   'source': 'OurAirports'},\n",
       "  'codeshare': False,\n",
       "  'equipment': ['CR2']},\n",
       " {'airline': {'airline_id': 410,\n",
       "   'name': 'Aerocondor',\n",
       "   'alias': 'ANA All Nippon Airways',\n",
       "   'iata': '2B',\n",
       "   'icao': 'ARD',\n",
       "   'callsign': 'AEROCONDOR',\n",
       "   'country': 'Portugal',\n",
       "   'active': True},\n",
       "  'src_airport': {'airport_id': 2966,\n",
       "   'name': 'Astrakhan Airport',\n",
       "   'city': 'Astrakhan',\n",
       "   'country': 'Russia',\n",
       "   'iata': 'ASF',\n",
       "   'icao': 'URWA',\n",
       "   'latitude': 46.2832984924,\n",
       "   'longitude': 48.0063018799,\n",
       "   'altitude': -65,\n",
       "   'timezone': 4.0,\n",
       "   'dst': 'N',\n",
       "   'tz_id': 'Europe/Samara',\n",
       "   'type': 'airport',\n",
       "   'source': 'OurAirports'},\n",
       "  'dst_airport': {'airport_id': 2990,\n",
       "   'name': 'Kazan International Airport',\n",
       "   'city': 'Kazan',\n",
       "   'country': 'Russia',\n",
       "   'iata': 'KZN',\n",
       "   'icao': 'UWKD',\n",
       "   'latitude': 55.606201171875,\n",
       "   'longitude': 49.278701782227,\n",
       "   'altitude': 411,\n",
       "   'timezone': 3.0,\n",
       "   'dst': 'N',\n",
       "   'tz_id': 'Europe/Moscow',\n",
       "   'type': 'airport',\n",
       "   'source': 'OurAirports'},\n",
       "  'codeshare': False,\n",
       "  'equipment': ['CR2']},\n",
       " {'airline': {'airline_id': 410,\n",
       "   'name': 'Aerocondor',\n",
       "   'alias': 'ANA All Nippon Airways',\n",
       "   'iata': '2B',\n",
       "   'icao': 'ARD',\n",
       "   'callsign': 'AEROCONDOR',\n",
       "   'country': 'Portugal',\n",
       "   'active': True},\n",
       "  'src_airport': {'airport_id': 2966,\n",
       "   'name': 'Astrakhan Airport',\n",
       "   'city': 'Astrakhan',\n",
       "   'country': 'Russia',\n",
       "   'iata': 'ASF',\n",
       "   'icao': 'URWA',\n",
       "   'latitude': 46.2832984924,\n",
       "   'longitude': 48.0063018799,\n",
       "   'altitude': -65,\n",
       "   'timezone': 4.0,\n",
       "   'dst': 'N',\n",
       "   'tz_id': 'Europe/Samara',\n",
       "   'type': 'airport',\n",
       "   'source': 'OurAirports'},\n",
       "  'dst_airport': {'airport_id': 2962,\n",
       "   'name': 'Mineralnyye Vody Airport',\n",
       "   'city': 'Mineralnye Vody',\n",
       "   'country': 'Russia',\n",
       "   'iata': 'MRV',\n",
       "   'icao': 'URMM',\n",
       "   'latitude': 44.22510147094727,\n",
       "   'longitude': 43.08190155029297,\n",
       "   'altitude': 1054,\n",
       "   'timezone': 3.0,\n",
       "   'dst': 'N',\n",
       "   'tz_id': 'Europe/Moscow',\n",
       "   'type': 'airport',\n",
       "   'source': 'OurAirports'},\n",
       "  'codeshare': False,\n",
       "  'equipment': ['CR2']}]"
      ]
     },
     "execution_count": 38,
     "metadata": {},
     "output_type": "execute_result"
    }
   ],
   "source": [
    "records[0:3]"
   ]
  },
  {
   "cell_type": "code",
   "execution_count": 42,
   "metadata": {},
   "outputs": [],
   "source": [
    "df = pd.DataFrame(records)\n",
    "table = pa.Table.from_pandas(df)\n",
    "\n",
    "pq.write_table(table,'routes.parquet')"
   ]
  },
  {
   "cell_type": "markdown",
   "metadata": {},
   "source": [
    "## 3.1"
   ]
  },
  {
   "cell_type": "markdown",
   "metadata": {},
   "source": [
    "### 3.1.a JSON Schema"
   ]
  },
  {
   "cell_type": "code",
   "execution_count": 27,
   "metadata": {
    "scrolled": true
   },
   "outputs": [],
   "source": [
    "def validate_jsonl_data(records):\n",
    "    schema_path = 'routes-schema.json'\n",
    "    with open(schema_path) as f:\n",
    "        schema = json.load(f)\n",
    "        \n",
    "#    with open(validation_csv_path, 'w') as f:    \n",
    "    for i, record in enumerate(records):\n",
    "        try:\n",
    "            jsonschema.validate(instance=records[1], schema=schema)\n",
    "            pass\n",
    "        except ValidationError as e:\n",
    "            print(\"The schema doesn't fit for this record\")\n",
    "            pass\n",
    "            \n",
    "\n",
    "validate_jsonl_data(records)"
   ]
  },
  {
   "cell_type": "code",
   "execution_count": 33,
   "metadata": {},
   "outputs": [],
   "source": [
    "schema_avro = {   \"doc\": \"route.avsc\",\n",
    "    \"name\": \"route_avsc\",\n",
    "    \"namespace\": \"route_avro\",\n",
    "    \"type\": \"record\",\n",
    "    \"fields\": [\n",
    "       { \"name\": \"airline_id\",\"type\": \"int\",\"default\" : \"NONE\"},\n",
    "        {\"name\": \"name\",\"type\": \"string\"},\n",
    "        {\"name\": \"alias\",\"type\": \"string\"},\n",
    "        {\"name\":\"iata\",\n",
    "          \"type\": \"string\"\n",
    "        },\n",
    "        {\"name\":\"icao\",\n",
    "          \"type\": \"string\"\n",
    "        },\n",
    "        {\"name\":\"callsign\",\n",
    "          \"type\": \"string\"\n",
    "        },\n",
    "        {\"name\":\"country\",\n",
    "          \"type\": \"string\"\n",
    "        },\n",
    "        {\"name\":\"active\",\n",
    "          \"type\": \"boolean\"\n",
    "        }\n",
    "        ,\n",
    "     {\"name\":\"src_airport\",\n",
    "      \"type\": {\n",
    "            \"type\": \"record\",\n",
    "            \"name\": \"src_airport\",\n",
    "            \"fields\": [\n",
    "        {\"name\":\"airport_id\",\n",
    "          \"type\": \"int\"\n",
    "        },\n",
    "        {\"name\":\"name\",\n",
    "          \"type\": \"string\"\n",
    "        },\n",
    "        {\"name\":\"city\",\n",
    "          \"type\": \"string\"\n",
    "        },\n",
    "        {\"name\":\"country\",\n",
    "          \"type\": \"string\"\n",
    "        },\n",
    "        {\"name\":\"iata\",\n",
    "          \"type\": \"string\"\n",
    "        },\n",
    "        {\"name\":\"icao\",\n",
    "          \"type\": \"string\"\n",
    "        },\n",
    "        {\"name\":\"latitude\",\n",
    "          \"type\": \"long\"\n",
    "        },\n",
    "        {\"name\":\"longitude\",\n",
    "          \"type\": \"long\"\n",
    "        },\n",
    "        {\"name\":\"altitude\",\n",
    "          \"type\": \"int\"\n",
    "        },\n",
    "        {\"name\":\"timezone\",\n",
    "          \"type\": \"long\"\n",
    "        },\n",
    "        {\"name\":\"dst\",\n",
    "          \"type\": \"string\"\n",
    "        },\n",
    "        {\"name\":\"tz_id\",\n",
    "          \"type\": \"string\"\n",
    "        },\n",
    "        {\"name\":\"type\",\n",
    "          \"type\": \"string\"\n",
    "        },\n",
    "        {\"name\":\"source\",\n",
    "          \"type\": \"string\"\n",
    "        }\n",
    "      ]\n",
    "     }\n",
    "\t },\n",
    "    { \"name\":\"dst_airport\",\n",
    "     \"type\": {\n",
    "            \"type\": \"record\",\n",
    "            \"name\": \"dst_airport\",\n",
    "            \"fields\": [\n",
    "        {\"name\":\"airport_id\",\n",
    "          \"type\": \"int\"\n",
    "        },\n",
    "        {\"name\":\"name\",\n",
    "          \"type\": \"string\"\n",
    "        },\n",
    "        {\"name\":\"city\",\n",
    "          \"type\": \"string\"\n",
    "        },\n",
    "        {\"name\":\"country\",\n",
    "          \"type\": \"string\"\n",
    "        },\n",
    "        {\"name\":\"iata\",\n",
    "          \"type\": \"string\"\n",
    "        },\n",
    "        {\"name\":\"icao\",\n",
    "          \"type\": \"string\"\n",
    "        },\n",
    "        {\"name\":\"latitude\",\n",
    "          \"type\": \"long\"\n",
    "        },\n",
    "        {\"name\":\"longitude\",\n",
    "          \"type\": \"long\"\n",
    "        },\n",
    "        {\"name\":\"altitude\",\n",
    "          \"type\": \"int\"\n",
    "        },\n",
    "        {\"name\":\"timezone\",\n",
    "          \"type\": \"long\"\n",
    "        },\n",
    "        {\"name\":\"dst\",\n",
    "          \"type\": \"string\"\n",
    "        },\n",
    "        {\"name\":\"tz_id\",\n",
    "          \"type\": \"string\"\n",
    "        },\n",
    "        {\"name\":\"type\",\n",
    "          \"type\": \"string\"\n",
    "        },\n",
    "        {\"name\":\"source\",\n",
    "          \"type\": \"string\"\n",
    "        }\n",
    "      ]\n",
    "    }\n",
    "\t},\n",
    "    {\"name\":\"codeshare\",\n",
    "      \"type\": \"boolean\"\n",
    "    },\n",
    "    {\"name\":\"equipment\",\n",
    "      \"type\": {\n",
    "            \"type\": \"record\",\n",
    "            \"name\": \"equipment\",\n",
    "\t\t\t\"fields\": [\n",
    "\t\t\t\t{\n",
    "\t\t\t\t\t\n",
    "                                         \"name\" : \"code\",  \n",
    "                                         \"type\": \"string\"\n",
    "\t\t\t\t}\n",
    "\t\t\t\t\t\t]\n",
    "\t\t\t\t}\n",
    "\t\t\t}\n",
    "]\n",
    "}\n"
   ]
  },
  {
   "cell_type": "code",
   "execution_count": 43,
   "metadata": {},
   "outputs": [],
   "source": [
    "#Testing avrso schema\n",
    "from fastavro import parse_schema\n",
    "from fastavro import writer\n",
    "\n",
    "parsed_schema = parse_schema(schema_avro)\n",
    "with open('routes.avsc', 'wb') as out:\n",
    "    writer(out, parsed_schema, records)"
   ]
  },
  {
   "cell_type": "markdown",
   "metadata": {},
   "source": [
    "### 3.1.b Avro"
   ]
  },
  {
   "cell_type": "code",
   "execution_count": null,
   "metadata": {},
   "outputs": [],
   "source": [
    "def create_avro_dataset(records):\n",
    "    schema_path = schema_dir.joinpath('routes.avsc')\n",
    "    data_path = results_dir.joinpath('routes.avro')\n",
    "    ## TODO: Use fastavro to create Avro dataset\n",
    "    parsed_schema = parse_schema(schema_avro)\n",
    "    with open('routes.avro', 'wb') as out:\n",
    "        writer(out, parsed_schema, records[0:2])\n",
    "    \n",
    "        \n",
    "create_avro_dataset(records)"
   ]
  },
  {
   "cell_type": "markdown",
   "metadata": {},
   "source": [
    "### 3.1.c Parquet"
   ]
  },
  {
   "cell_type": "code",
   "execution_count": 46,
   "metadata": {},
   "outputs": [],
   "source": [
    "def create_parquet_dataset():\n",
    "    src_data_path = 'data/processed/openflights/routes.jsonl.gz'\n",
    "    parquet_output_path = results_dir.joinpath('routes.parquet')\n",
    "    s3 = s3fs.S3FileSystem(\n",
    "        anon=True,\n",
    "        client_kwargs={\n",
    "            'endpoint_url': endpoint_url\n",
    "        }\n",
    "    )\n",
    "    df = pd.DataFrame(records)\n",
    "    table = pa.Table.from_pandas(df)\n",
    "\n",
    "    pq.write_table(table,'routes.parquet')\n",
    "    \n",
    "#     with s3.open(src_data_path, 'rb') as f_gz:\n",
    "#         with gzip.open(f_gz, 'rb') as f:\n",
    "#             df = pd.pandas(f)\n",
    "#             table = pa.Table.from_pandas(df)\n",
    "#             print(table)\n",
    "#             pass\n",
    "#             ## TODO: Use Apache Arrow to create Parquet table and save the dataset\n",
    "\n",
    "create_parquet_dataset()"
   ]
  },
  {
   "cell_type": "markdown",
   "metadata": {},
   "source": [
    "### 3.1.d Protocol Buffers"
   ]
  },
  {
   "cell_type": "code",
   "execution_count": 48,
   "metadata": {},
   "outputs": [],
   "source": [
    "import routes_pb2\n",
    "def _airline_to_proto_obj(airline):\n",
    "    obj = routes_pb2.Airline()\n",
    "    print(obj)\n",
    "    if not airline.get('name'):\n",
    "        return None\n",
    "    if not airline.get('airline_id'):\n",
    "        return None\n",
    "    \n",
    "    obj.airport_id = airport.get('airport_id')\n",
    "    if airport.get('name'):\n",
    "        obj.name = airport.get('name')\n",
    "    if airport.get('city'):\n",
    "        obj.city = airport.get('city')\n",
    "    if airport.get('iata'):\n",
    "        obj.iata = airport.get('iata')\n",
    "    if airport.get('icao'):\n",
    "        obj.icao = airport.get('icao')\n",
    "    if airport.get('altitude'):\n",
    "        obj.altitude = airport.get('altitude')\n",
    "    if airport.get('timezone'):\n",
    "        obj.timezone = airport.get('timezone')\n",
    "    if airport.get('dst'):\n",
    "        obj.dst = airport.get('dst')\n",
    "    if airport.get('tz_id'):\n",
    "        obj.tz_id = airport.get('tz_id')\n",
    "    if airport.get('type'):\n",
    "        obj.type = airport.get('type')\n",
    "    if airport.get('source'):\n",
    "        obj.source = airport.get('source')\n",
    "\n",
    "    obj.latitude = airport.get('latitude')\n",
    "    obj.longitude = airport.get('longitude')\n",
    "\n",
    "    return obj\n",
    "\n",
    "def create_protobuf_dataset(records):\n",
    "    routes = routes_pb2.Routes()\n",
    "    for record in records:\n",
    "        route = routes_pb2.Route()\n",
    "        airline = _airline_to_proto_obj(record.get('airline', {}))\n",
    "        print(airline)\n",
    "        if airline:\n",
    "            route.airline.CopyFrom(airline)\n",
    "        #TODO\n",
    "        routes.route.append(route)\n",
    "    data_path = results_dir.joinpath('routes.pb')\n",
    "    with open(data_path, 'wb') as f:\n",
    "        f.write(routes.SerializeToString())\n",
    "    compressed_path = results_dir.joinpath('routes.pb.snappy')\n",
    "    with open(compressed_path, 'wb') as f:\n",
    "        f.write(snappy.compress(routes.SerializeToString()))"
   ]
  },
  {
   "cell_type": "code",
   "execution_count": 49,
   "metadata": {},
   "outputs": [
    {
     "name": "stdout",
     "output_type": "stream",
     "text": [
      "\n"
     ]
    },
    {
     "ename": "AttributeError",
     "evalue": "'Airline' object has no attribute 'airport_id'",
     "output_type": "error",
     "traceback": [
      "\u001b[0;31m---------------------------------------------------------------------------\u001b[0m",
      "\u001b[0;31mAttributeError\u001b[0m                            Traceback (most recent call last)",
      "\u001b[0;32m<ipython-input-49-fee012a650ab>\u001b[0m in \u001b[0;36m<module>\u001b[0;34m\u001b[0m\n\u001b[0;32m----> 1\u001b[0;31m \u001b[0mcreate_protobuf_dataset\u001b[0m\u001b[0;34m(\u001b[0m\u001b[0mrecords\u001b[0m\u001b[0;34m)\u001b[0m\u001b[0;34m\u001b[0m\u001b[0;34m\u001b[0m\u001b[0m\n\u001b[0m",
      "\u001b[0;32m<ipython-input-48-f2fb74297748>\u001b[0m in \u001b[0;36mcreate_protobuf_dataset\u001b[0;34m(records)\u001b[0m\n\u001b[1;32m     39\u001b[0m     \u001b[0;32mfor\u001b[0m \u001b[0mrecord\u001b[0m \u001b[0;32min\u001b[0m \u001b[0mrecords\u001b[0m\u001b[0;34m:\u001b[0m\u001b[0;34m\u001b[0m\u001b[0;34m\u001b[0m\u001b[0m\n\u001b[1;32m     40\u001b[0m         \u001b[0mroute\u001b[0m \u001b[0;34m=\u001b[0m \u001b[0mroutes_pb2\u001b[0m\u001b[0;34m.\u001b[0m\u001b[0mRoute\u001b[0m\u001b[0;34m(\u001b[0m\u001b[0;34m)\u001b[0m\u001b[0;34m\u001b[0m\u001b[0;34m\u001b[0m\u001b[0m\n\u001b[0;32m---> 41\u001b[0;31m         \u001b[0mairline\u001b[0m \u001b[0;34m=\u001b[0m \u001b[0m_airline_to_proto_obj\u001b[0m\u001b[0;34m(\u001b[0m\u001b[0mrecord\u001b[0m\u001b[0;34m.\u001b[0m\u001b[0mget\u001b[0m\u001b[0;34m(\u001b[0m\u001b[0;34m'airline'\u001b[0m\u001b[0;34m,\u001b[0m \u001b[0;34m{\u001b[0m\u001b[0;34m}\u001b[0m\u001b[0;34m)\u001b[0m\u001b[0;34m)\u001b[0m\u001b[0;34m\u001b[0m\u001b[0;34m\u001b[0m\u001b[0m\n\u001b[0m\u001b[1;32m     42\u001b[0m         \u001b[0mprint\u001b[0m\u001b[0;34m(\u001b[0m\u001b[0mairline\u001b[0m\u001b[0;34m)\u001b[0m\u001b[0;34m\u001b[0m\u001b[0;34m\u001b[0m\u001b[0m\n\u001b[1;32m     43\u001b[0m         \u001b[0;32mif\u001b[0m \u001b[0mairline\u001b[0m\u001b[0;34m:\u001b[0m\u001b[0;34m\u001b[0m\u001b[0;34m\u001b[0m\u001b[0m\n",
      "\u001b[0;32m<ipython-input-48-f2fb74297748>\u001b[0m in \u001b[0;36m_airline_to_proto_obj\u001b[0;34m(airline)\u001b[0m\n\u001b[1;32m      8\u001b[0m         \u001b[0;32mreturn\u001b[0m \u001b[0;32mNone\u001b[0m\u001b[0;34m\u001b[0m\u001b[0;34m\u001b[0m\u001b[0m\n\u001b[1;32m      9\u001b[0m \u001b[0;34m\u001b[0m\u001b[0m\n\u001b[0;32m---> 10\u001b[0;31m     \u001b[0mobj\u001b[0m\u001b[0;34m.\u001b[0m\u001b[0mairport_id\u001b[0m \u001b[0;34m=\u001b[0m \u001b[0mairline\u001b[0m\u001b[0;34m.\u001b[0m\u001b[0mget\u001b[0m\u001b[0;34m(\u001b[0m\u001b[0;34m'airport_id'\u001b[0m\u001b[0;34m)\u001b[0m\u001b[0;34m\u001b[0m\u001b[0;34m\u001b[0m\u001b[0m\n\u001b[0m\u001b[1;32m     11\u001b[0m     \u001b[0;32mif\u001b[0m \u001b[0mairline\u001b[0m\u001b[0;34m.\u001b[0m\u001b[0mget\u001b[0m\u001b[0;34m(\u001b[0m\u001b[0;34m'name'\u001b[0m\u001b[0;34m)\u001b[0m\u001b[0;34m:\u001b[0m\u001b[0;34m\u001b[0m\u001b[0;34m\u001b[0m\u001b[0m\n\u001b[1;32m     12\u001b[0m         \u001b[0mobj\u001b[0m\u001b[0;34m.\u001b[0m\u001b[0mname\u001b[0m \u001b[0;34m=\u001b[0m \u001b[0mairport\u001b[0m\u001b[0;34m.\u001b[0m\u001b[0mget\u001b[0m\u001b[0;34m(\u001b[0m\u001b[0;34m'name'\u001b[0m\u001b[0;34m)\u001b[0m\u001b[0;34m\u001b[0m\u001b[0;34m\u001b[0m\u001b[0m\n",
      "\u001b[0;31mAttributeError\u001b[0m: 'Airline' object has no attribute 'airport_id'"
     ]
    }
   ],
   "source": [
    "create_protobuf_dataset(records)"
   ]
  },
  {
   "cell_type": "markdown",
   "metadata": {},
   "source": [
    "## 3.2"
   ]
  },
  {
   "cell_type": "markdown",
   "metadata": {},
   "source": [
    "### 3.2.a Simple Geohash Index"
   ]
  },
  {
   "cell_type": "code",
   "execution_count": 51,
   "metadata": {},
   "outputs": [],
   "source": [
    "def create_hash_dirs(records):\n",
    "    geoindex_dir = results_dir.joinpath('geoindex')\n",
    "    geoindex_dir.mkdir(exist_ok=True, parents=True)\n",
    "    hashes = []\n",
    "    for record in records:\n",
    "        src_airport = record.get('src_airport', {})\n",
    "        if src_airport:\n",
    "            latitude = src_airport.get('latitude')\n",
    "            longitude = src_airport.get('longitude')\n",
    "            if latitude and longitude:\n",
    "                #TODO: use pygeohash.encode() to assign geohashes to the records and complete the hashes list\n",
    "                h = pygeohash.encode(latitude,longitude)\n",
    "                record['geohash']=h\n",
    "                hashes.append(h)\n",
    "    hashes.sort()\n",
    "    three_letter = sorted(list(set([entry[:3] for entry in hashes])))\n",
    "    hash_index = {value: [] for value in three_letter}\n",
    "    for record in records:\n",
    "        geohash = record.get('geohash')\n",
    "        if geohash:\n",
    "            hash_index[geohash[:3]].append(record)\n",
    "    for key, values in hash_index.items():\n",
    "        output_dir = geoindex_dir.joinpath(str(key[:1])).joinpath(str(key[:2]))\n",
    "        output_dir.mkdir(exist_ok=True, parents=True)\n",
    "        output_path = output_dir.joinpath('{}.jsonl.gz'.format(key))\n",
    "        with gzip.open(output_path, 'w') as f:\n",
    "            json_output = '\\n'.join([json.dumps(value) for value in values])\n",
    "            f.write(json_output.encode('utf-8'))\n",
    "create_hash_dirs(records)"
   ]
  },
  {
   "cell_type": "markdown",
   "metadata": {},
   "source": [
    "Implement a simple geospatial search feature that finds airports within a specified distance of an input latitude \n",
    "and longitude.\n",
    "You can use the geohash_approximate_distance function in pygeohash to compute distances between geohash values. \n",
    "It returns distances in meters, but your search function should use kilometers as input.\n",
    "\n",
    "\n",
    "import pygeohash\n",
    "pygeohash.geohash_approximate_distance('bcd3u', 'bc83n')\n",
    "625441\n"
   ]
  },
  {
   "cell_type": "markdown",
   "metadata": {},
   "source": [
    "### 3.2.b Simple Search Feature"
   ]
  },
  {
   "cell_type": "code",
   "execution_count": 52,
   "metadata": {},
   "outputs": [
    {
     "name": "stdout",
     "output_type": "stream",
     "text": [
      "Eppley Airfield\n"
     ]
    }
   ],
   "source": [
    "def airport_search(latitude, longitude):\n",
    "    ## TODO: Create simple search to return nearest airport\n",
    "    h = pygeohash.encode(latitude,longitude)\n",
    "    dist = 0\n",
    "    name = ''\n",
    "    for i,record in enumerate(records):\n",
    "        src_airport = record.get('src_airport', {})\n",
    "        if src_airport:\n",
    "            lat = src_airport.get('latitude')\n",
    "            long = src_airport.get('longitude')\n",
    "            a_name = src_airport.get('name')\n",
    "            if lat and long:\n",
    "                h1 = pygeohash.encode(lat,long)\n",
    "                \n",
    "                dist_n = pygeohash.geohash_approximate_distance(h,h1)\n",
    "                if i==0:\n",
    "                    dist = dist_n\n",
    "                else:\n",
    "                    if dist > dist_n:\n",
    "                        dist = dist_n\n",
    "                        name = a_name\n",
    "    print(name)\n",
    "                        \n",
    "                \n",
    "                    \n",
    "\n",
    "    \n",
    "#airport_search(41.1499988, -95.91779)\n",
    "airport_search(41.1499988, -95.91779)"
   ]
  },
  {
   "cell_type": "code",
   "execution_count": 53,
   "metadata": {},
   "outputs": [
    {
     "name": "stdout",
     "output_type": "stream",
     "text": [
      "Astrakhan Airport\n"
     ]
    }
   ],
   "source": [
    "#Astrakhan \n",
    "airport_search(46.2832984924,48.0063018799)"
   ]
  },
  {
   "cell_type": "code",
   "execution_count": null,
   "metadata": {},
   "outputs": [],
   "source": []
  }
 ],
 "metadata": {
  "kernelspec": {
   "display_name": "Python 3",
   "language": "python",
   "name": "python3"
  },
  "language_info": {
   "codemirror_mode": {
    "name": "ipython",
    "version": 3
   },
   "file_extension": ".py",
   "mimetype": "text/x-python",
   "name": "python",
   "nbconvert_exporter": "python",
   "pygments_lexer": "ipython3",
   "version": "3.8.3"
  }
 },
 "nbformat": 4,
 "nbformat_minor": 4
}
